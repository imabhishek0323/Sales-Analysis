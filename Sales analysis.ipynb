{
 "cells": [
  {
   "cell_type": "markdown",
   "id": "8f4657fe",
   "metadata": {},
   "source": [
    "## Sales Analysis\n",
    "Problem statement:-You have dataset containing information about sales transaction,including product name,sales date,and quantity sold.\n",
    "Our goal is to analyze total sales quantity for each product in each month.Use Pivot table to summarize the data and provide insight into monthly sales trends for each product."
   ]
  },
  {
   "cell_type": "code",
   "execution_count": 1,
   "id": "9b16c5f0",
   "metadata": {},
   "outputs": [],
   "source": [
    "import pandas as pd\n",
    "import numpy as np\n",
    "from datetime import datetime,timedelta"
   ]
  },
  {
   "cell_type": "code",
   "execution_count": 2,
   "id": "c040f720",
   "metadata": {},
   "outputs": [],
   "source": [
    "np.random.seed(42)#dummy dataset"
   ]
  },
  {
   "cell_type": "code",
   "execution_count": 3,
   "id": "30b8ee07",
   "metadata": {},
   "outputs": [],
   "source": [
    "#generate random dates for past year\n",
    "start=datetime(2022,1,1)\n",
    "end=datetime(2022,12,31)\n",
    "date_range=[start+timedelta(days=np.random.randint((end-start).days)) for _ in range(100)]\n",
    "#create product name\n",
    "products=[\"ProductA\",\"ProductB\",\"ProductC\"]"
   ]
  },
  {
   "cell_type": "code",
   "execution_count": 7,
   "id": "bdef2d89",
   "metadata": {},
   "outputs": [
    {
     "name": "stdout",
     "output_type": "stream",
     "text": [
      "Dummy dataset\n",
      "        Date   Product  QuantitySold  Month  Year\n",
      "0 2022-04-13  ProductB            25      4  2022\n",
      "1 2022-12-15  ProductC            24     12  2022\n",
      "2 2022-09-28  ProductB            13      9  2022\n",
      "3 2022-04-17  ProductA            60      4  2022\n",
      "4 2022-03-13  ProductC             7      3  2022\n"
     ]
    }
   ],
   "source": [
    "#Generate random quantity sold for each product on each date\n",
    "data={\n",
    "    'Date':date_range,\n",
    "    'Product':np.random.choice(products,size=100),\n",
    "    'QuantitySold':np.random.randint(1,100,size=100)\n",
    "}\n",
    "#create DataFrame\n",
    "sales=pd.DataFrame(data)\n",
    "#Extract month&year from date column\n",
    "sales['Month']=sales['Date'].dt.month\n",
    "sales['Year']=sales['Date'].dt.year\n",
    "#display dummy dataset\n",
    "print(\"Dummy dataset\")\n",
    "print(sales.head())"
   ]
  },
  {
   "cell_type": "code",
   "execution_count": 9,
   "id": "122e4a98",
   "metadata": {},
   "outputs": [
    {
     "name": "stdout",
     "output_type": "stream",
     "text": [
      "\n",
      "Pivot table-Monthly sales quantity for each product: \n",
      "Year     2022                                                       \n",
      "Month      1    2    3    4    5    6    7    8    9    10   11   12\n",
      "Product                                                             \n",
      "ProductA  249  180  208  141  112   88  267    0  209  180   68  106\n",
      "ProductB  198  250   16   70   96   86  117  199  171  178  205  187\n",
      "ProductC    0  176    7   14   53  246   64  163  212  179  134  247\n"
     ]
    }
   ],
   "source": [
    "#Create pivot table to analyze monthly sales quantity for each product\n",
    "# A PivotTable is an interactive way to quickly summarize large amounts of data. \n",
    "pivot_table_sales=pd.pivot_table(sales,values='QuantitySold',index='Product',columns=['Year','Month'],aggfunc=np.sum,fill_value=0)\n",
    "print(\"\\nPivot table-Monthly sales quantity for each product: \")\n",
    "print(pivot_table_sales)"
   ]
  },
  {
   "cell_type": "code",
   "execution_count": null,
   "id": "b5504065",
   "metadata": {},
   "outputs": [],
   "source": []
  }
 ],
 "metadata": {
  "kernelspec": {
   "display_name": "Python 3 (ipykernel)",
   "language": "python",
   "name": "python3"
  },
  "language_info": {
   "codemirror_mode": {
    "name": "ipython",
    "version": 3
   },
   "file_extension": ".py",
   "mimetype": "text/x-python",
   "name": "python",
   "nbconvert_exporter": "python",
   "pygments_lexer": "ipython3",
   "version": "3.11.5"
  }
 },
 "nbformat": 4,
 "nbformat_minor": 5
}
